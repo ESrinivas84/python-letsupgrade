{
  "nbformat": 4,
  "nbformat_minor": 0,
  "metadata": {
    "colab": {
      "name": "Assignment4.ipynb",
      "provenance": [],
      "authorship_tag": "ABX9TyOGF8/KxNXZ/jz2XpXG0ZvF",
      "include_colab_link": true
    },
    "kernelspec": {
      "name": "python3",
      "display_name": "Python 3"
    }
  },
  "cells": [
    {
      "cell_type": "markdown",
      "metadata": {
        "id": "view-in-github",
        "colab_type": "text"
      },
      "source": [
        "<a href=\"https://colab.research.google.com/github/ESrinivas84/python-letsupgrade/blob/master/Assignment4.ipynb\" target=\"_parent\"><img src=\"https://colab.research.google.com/assets/colab-badge.svg\" alt=\"Open In Colab\"/></a>"
      ]
    },
    {
      "cell_type": "code",
      "metadata": {
        "id": "quTnmiNk9gAc",
        "colab_type": "code",
        "colab": {
          "base_uri": "https://localhost:8080/",
          "height": 34
        },
        "outputId": "a07be6b6-42b9-4e27-b4d7-342d15724774"
      },
      "source": [
        "upper=702648265\n",
        "lower=1042000\n",
        "for num in range(lower,upper+1):\n",
        "  o=len(str(num))\n",
        "  sum=0\n",
        "  temp=num\n",
        "  while temp > 0:\n",
        "    x=temp % 10\n",
        "    sum+=x ** o\n",
        "    temp//= 10\n",
        "  if num==sum:\n",
        "   print(num)\n",
        "   break"
      ],
      "execution_count": 7,
      "outputs": [
        {
          "output_type": "stream",
          "text": [
            "1741725\n"
          ],
          "name": "stdout"
        }
      ]
    }
  ]
}