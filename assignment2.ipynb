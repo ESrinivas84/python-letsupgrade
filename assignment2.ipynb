{
  "nbformat": 4,
  "nbformat_minor": 0,
  "metadata": {
    "colab": {
      "name": "Untitled2.ipynb",
      "provenance": [],
      "authorship_tag": "ABX9TyNc9FjzneCPUTNkRLgkpXAb",
      "include_colab_link": true
    },
    "kernelspec": {
      "name": "python3",
      "display_name": "Python 3"
    }
  },
  "cells": [
    {
      "cell_type": "markdown",
      "metadata": {
        "id": "view-in-github",
        "colab_type": "text"
      },
      "source": [
        "<a href=\"https://colab.research.google.com/github/ESrinivas84/python-letsupgrade/blob/master/assignment2.ipynb\" target=\"_parent\"><img src=\"https://colab.research.google.com/assets/colab-badge.svg\" alt=\"Open In Colab\"/></a>"
      ]
    },
    {
      "cell_type": "code",
      "metadata": {
        "id": "Nugwi2O_Y6bs",
        "colab_type": "code",
        "colab": {
          "base_uri": "https://localhost:8080/",
          "height": 71
        },
        "outputId": "3f589b22-036c-4bb1-9171-fd8c02b40e00"
      },
      "source": [
        "alt=int(input(\"enter the altitude required for the plane \"))\n",
        "if alt<=1000:\n",
        "  print(\" safe to land\")\n",
        "elif alt>1000:\n",
        "  print(\" bring down to thousand\")\n",
        "elif alt<=5000:\n",
        "  print(\" bring down to thousand\")\n",
        "else:\n",
        "  print(\"turn around\")"
      ],
      "execution_count": null,
      "outputs": [
        {
          "output_type": "stream",
          "text": [
            "enter the altitude required for the plane 3000\n",
            " bring down to thousand\n"
          ],
          "name": "stdout"
        }
      ]
    },
    {
      "cell_type": "code",
      "metadata": {
        "id": "lNALgZxSd19Z",
        "colab_type": "code",
        "colab": {
          "base_uri": "https://localhost:8080/",
          "height": 54
        },
        "outputId": "cfd8338b-9492-4bfc-f65c-6b8f83c041cb"
      },
      "source": [
        "for num in range(1,201):\n",
        "  count=0\n",
        "  for i in range(2,(num//2+1)):\n",
        "    if(num%i==0):\n",
        "      count=count+1\n",
        "      break\n",
        "  if (count==0 and num!=1):\n",
        "    print(\"%d\" %num,end=' ')"
      ],
      "execution_count": 18,
      "outputs": [
        {
          "output_type": "stream",
          "text": [
            "2 3 5 7 11 13 17 19 23 29 31 37 41 43 47 53 59 61 67 71 73 79 83 89 97 101 103 107 109 113 127 131 137 139 149 151 157 163 167 173 179 181 191 193 197 199 "
          ],
          "name": "stdout"
        }
      ]
    }
  ]
}